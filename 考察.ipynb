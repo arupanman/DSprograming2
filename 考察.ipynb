{
 "cells": [
  {
   "cell_type": "code",
   "execution_count": 36,
   "metadata": {},
   "outputs": [],
   "source": [
    "import sqlite3\n",
    "import pandas as pd"
   ]
  },
  {
   "cell_type": "code",
   "execution_count": 37,
   "metadata": {},
   "outputs": [],
   "source": [
    "# SQLiteデータベースへの接続\n",
    "path = '/Users/aruha/DSprograming2/DSprograming2/'\n",
    "db_name_sleep = 'sleep_db.sqlite'\n",
    "db_name_tenki = 'tenki_db.sqlite'\n",
    "\n",
    "con_sleep = sqlite3.connect(path + db_name_sleep)\n",
    "con_tenki = sqlite3.connect(path + db_name_tenki)"
   ]
  },
  {
   "cell_type": "code",
   "execution_count": 38,
   "metadata": {},
   "outputs": [],
   "source": [
    "# データを読み込む\n",
    "query_sleep = 'SELECT * FROM sleep;'\n",
    "query_tenki = 'SELECT * FROM tenki;'\n",
    "\n",
    "df_sleep = pd.read_sql_query(query_sleep, con_sleep)\n",
    "df_tenki = pd.read_sql_query(query_tenki, con_tenki)"
   ]
  },
  {
   "cell_type": "code",
   "execution_count": 42,
   "metadata": {},
   "outputs": [],
   "source": [
    "#ふたつのデータを結合する   \n",
    "df_merged = pd.concat([df_sleep, df_tenki], axis=1)"
   ]
  },
  {
   "cell_type": "code",
   "execution_count": 43,
   "metadata": {},
   "outputs": [],
   "source": [
    "# 相関係数を計算\n",
    "correlation_matrix = df_merged.corr()"
   ]
  },
  {
   "cell_type": "code",
   "execution_count": 47,
   "metadata": {},
   "outputs": [
    {
     "name": "stdout",
     "output_type": "stream",
     "text": [
      "             日付      スヌーズ      睡眠効率     快眠スコア      睡眠指数\n",
      "日付     1.000000  0.667417  0.500595  0.770398 -0.272166\n",
      "スヌーズ   0.667417  1.000000  0.646535  0.621706 -0.444724\n",
      "睡眠効率   0.500595  0.646535  1.000000  0.672836 -0.607221\n",
      "快眠スコア  0.770398  0.621706  0.672836  1.000000 -0.092741\n",
      "睡眠指数  -0.272166 -0.444724 -0.607221 -0.092741  1.000000\n"
     ]
    }
   ],
   "source": [
    "# 相関係数の表示\n",
    "print(correlation_matrix)\n",
    "#睡眠指数と他の項目の相関係数は弱い"
   ]
  },
  {
   "cell_type": "code",
   "execution_count": 51,
   "metadata": {},
   "outputs": [
    {
     "name": "stdout",
     "output_type": "stream",
     "text": [
      "  日付  スヌーズ   睡眠効率  快眠スコア  睡眠指数\n",
      "0  9     6  90.50   81.3     1\n",
      "1  8     3  84.00   86.9     2\n",
      "2  7     9  80.70   78.7     1\n",
      "3  6     1  57.60   70.3     1\n",
      "4  5     4  97.20   83.2     1\n",
      "5  4     0  48.40   69.6     4\n",
      "6  3     0  70.50   58.4     1\n"
     ]
    }
   ],
   "source": [
    "print(df_merged)"
   ]
  },
  {
   "cell_type": "code",
   "execution_count": 52,
   "metadata": {},
   "outputs": [
    {
     "name": "stderr",
     "output_type": "stream",
     "text": [
      "findfont: Font family 'IPAexGothic' not found.\n",
      "findfont: Font family 'IPAexGothic' not found.\n",
      "findfont: Font family 'IPAexGothic' not found.\n",
      "findfont: Font family 'IPAexGothic' not found.\n",
      "findfont: Font family 'IPAexGothic' not found.\n",
      "findfont: Font family 'IPAexGothic' not found.\n",
      "findfont: Font family 'IPAexGothic' not found.\n",
      "/var/folders/8y/4dcdrs2x4jl3sy82tfs890kh0000gn/T/ipykernel_57418/1294484158.py:12: UserWarning: Glyph 12473 (\\N{KATAKANA LETTER SU}) missing from current font.\n",
      "  plt.tight_layout()\n",
      "/var/folders/8y/4dcdrs2x4jl3sy82tfs890kh0000gn/T/ipykernel_57418/1294484158.py:12: UserWarning: Glyph 12492 (\\N{KATAKANA LETTER NU}) missing from current font.\n",
      "  plt.tight_layout()\n",
      "/var/folders/8y/4dcdrs2x4jl3sy82tfs890kh0000gn/T/ipykernel_57418/1294484158.py:12: UserWarning: Glyph 12540 (\\N{KATAKANA-HIRAGANA PROLONGED SOUND MARK}) missing from current font.\n",
      "  plt.tight_layout()\n",
      "/var/folders/8y/4dcdrs2x4jl3sy82tfs890kh0000gn/T/ipykernel_57418/1294484158.py:12: UserWarning: Glyph 12474 (\\N{KATAKANA LETTER ZU}) missing from current font.\n",
      "  plt.tight_layout()\n",
      "findfont: Font family 'IPAexGothic' not found.\n",
      "findfont: Font family 'IPAexGothic' not found.\n",
      "findfont: Font family 'IPAexGothic' not found.\n",
      "findfont: Font family 'IPAexGothic' not found.\n",
      "/Users/aruha/.pyenv/versions/3.9.10/lib/python3.9/site-packages/IPython/core/pylabtools.py:152: UserWarning: Glyph 12473 (\\N{KATAKANA LETTER SU}) missing from current font.\n",
      "  fig.canvas.print_figure(bytes_io, **kw)\n",
      "/Users/aruha/.pyenv/versions/3.9.10/lib/python3.9/site-packages/IPython/core/pylabtools.py:152: UserWarning: Glyph 12492 (\\N{KATAKANA LETTER NU}) missing from current font.\n",
      "  fig.canvas.print_figure(bytes_io, **kw)\n",
      "/Users/aruha/.pyenv/versions/3.9.10/lib/python3.9/site-packages/IPython/core/pylabtools.py:152: UserWarning: Glyph 12540 (\\N{KATAKANA-HIRAGANA PROLONGED SOUND MARK}) missing from current font.\n",
      "  fig.canvas.print_figure(bytes_io, **kw)\n",
      "/Users/aruha/.pyenv/versions/3.9.10/lib/python3.9/site-packages/IPython/core/pylabtools.py:152: UserWarning: Glyph 12474 (\\N{KATAKANA LETTER ZU}) missing from current font.\n",
      "  fig.canvas.print_figure(bytes_io, **kw)\n",
      "findfont: Font family 'IPAexGothic' not found.\n",
      "findfont: Font family 'IPAexGothic' not found.\n",
      "findfont: Font family 'IPAexGothic' not found.\n",
      "findfont: Font family 'IPAexGothic' not found.\n",
      "findfont: Font family 'IPAexGothic' not found.\n",
      "findfont: Font family 'IPAexGothic' not found.\n",
      "findfont: Font family 'IPAexGothic' not found.\n",
      "findfont: Font family 'IPAexGothic' not found.\n",
      "findfont: Font family 'IPAexGothic' not found.\n",
      "findfont: Font family 'IPAexGothic' not found.\n",
      "findfont: Font family 'IPAexGothic' not found.\n",
      "findfont: Font family 'IPAexGothic' not found.\n",
      "findfont: Font family 'IPAexGothic' not found.\n",
      "findfont: Font family 'IPAexGothic' not found.\n"
     ]
    },
    {
     "data": {
      "image/png": "[encoded data removed]",
      "text/plain": [
       "<Figure size 600x400 with 1 Axes>"
      ]
     },
     "metadata": {},
     "output_type": "display_data"
    }
   ],
   "source": [
    "import pandas as pd\n",
    "import seaborn as sns\n",
    "import matplotlib.pyplot as plt\n",
    "\n",
    "# グラフを一つずつ分けて表示\n",
    "plt.figure(figsize=(6, 4))\n",
    "\n",
    "# スヌーズのボックスプロット（水平方向）\n",
    "sns.boxplot(x='スヌーズ', data=df_merged, width=0.3)\n",
    "plt.title('スヌーズ')\n",
    "\n",
    "plt.tight_layout()\n",
    "plt.show()"
   ]
  },
  {
   "cell_type": "code",
   "execution_count": 53,
   "metadata": {},
   "outputs": [
    {
     "name": "stderr",
     "output_type": "stream",
     "text": [
      "findfont: Font family 'IPAexGothic' not found.\n",
      "findfont: Font family 'IPAexGothic' not found.\n",
      "findfont: Font family 'IPAexGothic' not found.\n",
      "findfont: Font family 'IPAexGothic' not found.\n",
      "findfont: Font family 'IPAexGothic' not found.\n",
      "findfont: Font family 'IPAexGothic' not found.\n",
      "findfont: Font family 'IPAexGothic' not found.\n",
      "findfont: Font family 'IPAexGothic' not found.\n",
      "/var/folders/8y/4dcdrs2x4jl3sy82tfs890kh0000gn/T/ipykernel_57418/3626402859.py:12: UserWarning: Glyph 24555 (\\N{CJK UNIFIED IDEOGRAPH-5FEB}) missing from current font.\n",
      "  plt.tight_layout()\n",
      "/var/folders/8y/4dcdrs2x4jl3sy82tfs890kh0000gn/T/ipykernel_57418/3626402859.py:12: UserWarning: Glyph 30496 (\\N{CJK UNIFIED IDEOGRAPH-7720}) missing from current font.\n",
      "  plt.tight_layout()\n",
      "/var/folders/8y/4dcdrs2x4jl3sy82tfs890kh0000gn/T/ipykernel_57418/3626402859.py:12: UserWarning: Glyph 12473 (\\N{KATAKANA LETTER SU}) missing from current font.\n",
      "  plt.tight_layout()\n",
      "/var/folders/8y/4dcdrs2x4jl3sy82tfs890kh0000gn/T/ipykernel_57418/3626402859.py:12: UserWarning: Glyph 12467 (\\N{KATAKANA LETTER KO}) missing from current font.\n",
      "  plt.tight_layout()\n",
      "/var/folders/8y/4dcdrs2x4jl3sy82tfs890kh0000gn/T/ipykernel_57418/3626402859.py:12: UserWarning: Glyph 12450 (\\N{KATAKANA LETTER A}) missing from current font.\n",
      "  plt.tight_layout()\n",
      "findfont: Font family 'IPAexGothic' not found.\n",
      "findfont: Font family 'IPAexGothic' not found.\n",
      "findfont: Font family 'IPAexGothic' not found.\n",
      "findfont: Font family 'IPAexGothic' not found.\n",
      "/Users/aruha/.pyenv/versions/3.9.10/lib/python3.9/site-packages/IPython/core/pylabtools.py:152: UserWarning: Glyph 24555 (\\N{CJK UNIFIED IDEOGRAPH-5FEB}) missing from current font.\n",
      "  fig.canvas.print_figure(bytes_io, **kw)\n",
      "/Users/aruha/.pyenv/versions/3.9.10/lib/python3.9/site-packages/IPython/core/pylabtools.py:152: UserWarning: Glyph 30496 (\\N{CJK UNIFIED IDEOGRAPH-7720}) missing from current font.\n",
      "  fig.canvas.print_figure(bytes_io, **kw)\n",
      "/Users/aruha/.pyenv/versions/3.9.10/lib/python3.9/site-packages/IPython/core/pylabtools.py:152: UserWarning: Glyph 12473 (\\N{KATAKANA LETTER SU}) missing from current font.\n",
      "  fig.canvas.print_figure(bytes_io, **kw)\n",
      "/Users/aruha/.pyenv/versions/3.9.10/lib/python3.9/site-packages/IPython/core/pylabtools.py:152: UserWarning: Glyph 12467 (\\N{KATAKANA LETTER KO}) missing from current font.\n",
      "  fig.canvas.print_figure(bytes_io, **kw)\n",
      "/Users/aruha/.pyenv/versions/3.9.10/lib/python3.9/site-packages/IPython/core/pylabtools.py:152: UserWarning: Glyph 12450 (\\N{KATAKANA LETTER A}) missing from current font.\n",
      "  fig.canvas.print_figure(bytes_io, **kw)\n",
      "findfont: Font family 'IPAexGothic' not found.\n",
      "findfont: Font family 'IPAexGothic' not found.\n",
      "findfont: Font family 'IPAexGothic' not found.\n",
      "findfont: Font family 'IPAexGothic' not found.\n",
      "findfont: Font family 'IPAexGothic' not found.\n",
      "findfont: Font family 'IPAexGothic' not found.\n",
      "findfont: Font family 'IPAexGothic' not found.\n",
      "findfont: Font family 'IPAexGothic' not found.\n",
      "findfont: Font family 'IPAexGothic' not found.\n",
      "findfont: Font family 'IPAexGothic' not found.\n",
      "findfont: Font family 'IPAexGothic' not found.\n",
      "findfont: Font family 'IPAexGothic' not found.\n",
      "findfont: Font family 'IPAexGothic' not found.\n",
      "findfont: Font family 'IPAexGothic' not found.\n",
      "findfont: Font family 'IPAexGothic' not found.\n",
      "findfont: Font family 'IPAexGothic' not found.\n"
     ]
    },
    {
     "data": {
      "image/png": "[encoded data removed]",
      "text/plain": [
       "<Figure size 600x400 with 1 Axes>"
      ]
     },
     "metadata": {},
     "output_type": "display_data"
    }
   ],
   "source": [
    "import pandas as pd\n",
    "import seaborn as sns\n",
    "import matplotlib.pyplot as plt\n",
    "\n",
    "# グラフを一つずつ分けて表示\n",
    "plt.figure(figsize=(6, 4))\n",
    "\n",
    "# スヌーズのボックスプロット（水平方向）\n",
    "sns.boxplot(x='快眠スコア', data=df_merged, width=0.3)\n",
    "plt.title('快眠スコア')\n",
    "\n",
    "plt.tight_layout()\n",
    "plt.show()"
   ]
  },
  {
   "cell_type": "code",
   "execution_count": 54,
   "metadata": {},
   "outputs": [
    {
     "name": "stderr",
     "output_type": "stream",
     "text": [
      "findfont: Font family 'IPAexGothic' not found.\n",
      "findfont: Font family 'IPAexGothic' not found.\n",
      "findfont: Font family 'IPAexGothic' not found.\n",
      "findfont: Font family 'IPAexGothic' not found.\n",
      "findfont: Font family 'IPAexGothic' not found.\n",
      "findfont: Font family 'IPAexGothic' not found.\n",
      "findfont: Font family 'IPAexGothic' not found.\n",
      "findfont: Font family 'IPAexGothic' not found.\n",
      "findfont: Font family 'IPAexGothic' not found.\n",
      "/var/folders/8y/4dcdrs2x4jl3sy82tfs890kh0000gn/T/ipykernel_57418/3421612573.py:12: UserWarning: Glyph 30561 (\\N{CJK UNIFIED IDEOGRAPH-7761}) missing from current font.\n",
      "  plt.tight_layout()\n",
      "/var/folders/8y/4dcdrs2x4jl3sy82tfs890kh0000gn/T/ipykernel_57418/3421612573.py:12: UserWarning: Glyph 30496 (\\N{CJK UNIFIED IDEOGRAPH-7720}) missing from current font.\n",
      "  plt.tight_layout()\n",
      "/var/folders/8y/4dcdrs2x4jl3sy82tfs890kh0000gn/T/ipykernel_57418/3421612573.py:12: UserWarning: Glyph 25351 (\\N{CJK UNIFIED IDEOGRAPH-6307}) missing from current font.\n",
      "  plt.tight_layout()\n",
      "/var/folders/8y/4dcdrs2x4jl3sy82tfs890kh0000gn/T/ipykernel_57418/3421612573.py:12: UserWarning: Glyph 25968 (\\N{CJK UNIFIED IDEOGRAPH-6570}) missing from current font.\n",
      "  plt.tight_layout()\n",
      "findfont: Font family 'IPAexGothic' not found.\n",
      "findfont: Font family 'IPAexGothic' not found.\n",
      "findfont: Font family 'IPAexGothic' not found.\n",
      "findfont: Font family 'IPAexGothic' not found.\n",
      "/Users/aruha/.pyenv/versions/3.9.10/lib/python3.9/site-packages/IPython/core/pylabtools.py:152: UserWarning: Glyph 30561 (\\N{CJK UNIFIED IDEOGRAPH-7761}) missing from current font.\n",
      "  fig.canvas.print_figure(bytes_io, **kw)\n",
      "/Users/aruha/.pyenv/versions/3.9.10/lib/python3.9/site-packages/IPython/core/pylabtools.py:152: UserWarning: Glyph 30496 (\\N{CJK UNIFIED IDEOGRAPH-7720}) missing from current font.\n",
      "  fig.canvas.print_figure(bytes_io, **kw)\n",
      "/Users/aruha/.pyenv/versions/3.9.10/lib/python3.9/site-packages/IPython/core/pylabtools.py:152: UserWarning: Glyph 25351 (\\N{CJK UNIFIED IDEOGRAPH-6307}) missing from current font.\n",
      "  fig.canvas.print_figure(bytes_io, **kw)\n",
      "/Users/aruha/.pyenv/versions/3.9.10/lib/python3.9/site-packages/IPython/core/pylabtools.py:152: UserWarning: Glyph 25968 (\\N{CJK UNIFIED IDEOGRAPH-6570}) missing from current font.\n",
      "  fig.canvas.print_figure(bytes_io, **kw)\n",
      "findfont: Font family 'IPAexGothic' not found.\n",
      "findfont: Font family 'IPAexGothic' not found.\n",
      "findfont: Font family 'IPAexGothic' not found.\n",
      "findfont: Font family 'IPAexGothic' not found.\n",
      "findfont: Font family 'IPAexGothic' not found.\n",
      "findfont: Font family 'IPAexGothic' not found.\n",
      "findfont: Font family 'IPAexGothic' not found.\n",
      "findfont: Font family 'IPAexGothic' not found.\n",
      "findfont: Font family 'IPAexGothic' not found.\n",
      "findfont: Font family 'IPAexGothic' not found.\n",
      "findfont: Font family 'IPAexGothic' not found.\n",
      "findfont: Font family 'IPAexGothic' not found.\n",
      "findfont: Font family 'IPAexGothic' not found.\n",
      "findfont: Font family 'IPAexGothic' not found.\n",
      "findfont: Font family 'IPAexGothic' not found.\n",
      "findfont: Font family 'IPAexGothic' not found.\n",
      "findfont: Font family 'IPAexGothic' not found.\n",
      "findfont: Font family 'IPAexGothic' not found.\n"
     ]
    },
    {
     "data": {
      "image/png": "[encoded data removed]",
      "text/plain": [
       "<Figure size 600x400 with 1 Axes>"
      ]
     },
     "metadata": {},
     "output_type": "display_data"
    }
   ],
   "source": [
    "import pandas as pd\n",
    "import seaborn as sns\n",
    "import matplotlib.pyplot as plt\n",
    "\n",
    "# グラフを一つずつ分けて表示\n",
    "plt.figure(figsize=(6, 4))\n",
    "\n",
    "# スヌーズのボックスプロット（水平方向）\n",
    "sns.boxplot(x='睡眠指数', data=df_merged, width=0.3)\n",
    "plt.title('睡眠指数')\n",
    "\n",
    "plt.tight_layout()\n",
    "plt.show()"
   ]
  },
  {
   "cell_type": "code",
   "execution_count": 55,
   "metadata": {},
   "outputs": [
    {
     "name": "stdout",
     "output_type": "stream",
     "text": [
      "  Feature  Importance\n",
      "3   快眠スコア    0.370599\n",
      "2    睡眠効率    0.275009\n",
      "0      日付    0.198810\n",
      "1    スヌーズ    0.155582\n"
     ]
    }
   ],
   "source": [
    "#睡眠指数の寄与度\n",
    "from sklearn.ensemble import RandomForestClassifier\n",
    "import pandas as pd\n",
    "\n",
    "# df_merged を特徴量 X とターゲット y に分割\n",
    "X = df_merged.drop('睡眠指数', axis=1)\n",
    "y = df_merged['睡眠指数']\n",
    "\n",
    "# ランダムフォレストモデルを定義してトレーニング\n",
    "clf = RandomForestClassifier()\n",
    "clf.fit(X, y)\n",
    "\n",
    "# 以降、先ほどのコードを実行\n",
    "importance = clf.feature_importances_\n",
    "feature_names = df_merged.columns[:-1]\n",
    "\n",
    "# 重要度順に並べ替えて表示する\n",
    "feature_importances = pd.DataFrame({'Feature': feature_names, 'Importance': importance})\n",
    "sorted_feature_importances = feature_importances.sort_values('Importance', ascending=False)\n",
    "\n",
    "# すべての行を表示\n",
    "pd.set_option('display.max_rows', None)\n",
    "print(sorted_feature_importances)\n"
   ]
  },
  {
   "cell_type": "code",
   "execution_count": null,
   "metadata": {},
   "outputs": [],
   "source": []
  }
 ],
 "metadata": {
  "kernelspec": {
   "display_name": "Python 3",
   "language": "python",
   "name": "python3"
  },
  "language_info": {
   "codemirror_mode": {
    "name": "ipython",
    "version": 3
   },
   "file_extension": ".py",
   "mimetype": "text/x-python",
   "name": "python",
   "nbconvert_exporter": "python",
   "pygments_lexer": "ipython3",
   "version": "3.9.10"
  }
 },
 "nbformat": 4,
 "nbformat_minor": 2
}
