{
 "cells": [
  {
   "cell_type": "code",
   "execution_count": 36,
   "metadata": {},
   "outputs": [],
   "source": [
    "import sqlite3\n",
    "import pandas as pd"
   ]
  },
  {
   "cell_type": "code",
   "execution_count": 37,
   "metadata": {},
   "outputs": [],
   "source": [
    "# SQLiteデータベースへの接続\n",
    "path = '/Users/aruha/DSprograming2/DSprograming2/'\n",
    "db_name_sleep = 'sleep_db.sqlite'\n",
    "db_name_tenki = 'tenki_db.sqlite'\n",
    "\n",
    "con_sleep = sqlite3.connect(path + db_name_sleep)\n",
    "con_tenki = sqlite3.connect(path + db_name_tenki)"
   ]
  },
  {
   "cell_type": "code",
   "execution_count": 38,
   "metadata": {},
   "outputs": [],
   "source": [
    "# データを読み込む\n",
    "query_sleep = 'SELECT * FROM sleep;'\n",
    "query_tenki = 'SELECT * FROM tenki;'\n",
    "\n",
    "df_sleep = pd.read_sql_query(query_sleep, con_sleep)\n",
    "df_tenki = pd.read_sql_query(query_tenki, con_tenki)"
   ]
  },
  {
   "cell_type": "code",
   "execution_count": 42,
   "metadata": {},
   "outputs": [],
   "source": [
    "df_merged = pd.concat([df_sleep, df_tenki], axis=1)"
   ]
  },
  {
   "cell_type": "code",
   "execution_count": 43,
   "metadata": {},
   "outputs": [],
   "source": [
    "# 相関係数を計算\n",
    "correlation_matrix = df_merged.corr()"
   ]
  },
  {
   "cell_type": "code",
   "execution_count": 47,
   "metadata": {},
   "outputs": [
    {
     "name": "stdout",
     "output_type": "stream",
     "text": [
      "             日付      スヌーズ      睡眠効率     快眠スコア      睡眠指数\n",
      "日付     1.000000  0.667417  0.500595  0.770398 -0.272166\n",
      "スヌーズ   0.667417  1.000000  0.646535  0.621706 -0.444724\n",
      "睡眠効率   0.500595  0.646535  1.000000  0.672836 -0.607221\n",
      "快眠スコア  0.770398  0.621706  0.672836  1.000000 -0.092741\n",
      "睡眠指数  -0.272166 -0.444724 -0.607221 -0.092741  1.000000\n"
     ]
    }
   ],
   "source": [
    "# 相関係数の表示\n",
    "print(correlation_matrix)\n",
    "#睡眠指数と他の項目の相関係数は弱い"
   ]
  },
  {
   "cell_type": "code",
   "execution_count": 48,
   "metadata": {},
   "outputs": [
    {
     "name": "stderr",
     "output_type": "stream",
     "text": [
      "findfont: Font family 'IPAexGothic' not found.\n",
      "findfont: Font family 'IPAexGothic' not found.\n",
      "findfont: Font family 'IPAexGothic' not found.\n",
      "findfont: Font family 'IPAexGothic' not found.\n",
      "findfont: Font family 'IPAexGothic' not found.\n",
      "findfont: Font family 'IPAexGothic' not found.\n",
      "findfont: Font family 'IPAexGothic' not found.\n",
      "findfont: Font family 'IPAexGothic' not found.\n",
      "/Users/aruha/.pyenv/versions/3.9.10/lib/python3.9/site-packages/seaborn/axisgrid.py:118: UserWarning: Glyph 12473 (\\N{KATAKANA LETTER SU}) missing from current font.\n",
      "  self._figure.tight_layout(*args, **kwargs)\n",
      "/Users/aruha/.pyenv/versions/3.9.10/lib/python3.9/site-packages/seaborn/axisgrid.py:118: UserWarning: Glyph 12492 (\\N{KATAKANA LETTER NU}) missing from current font.\n",
      "  self._figure.tight_layout(*args, **kwargs)\n",
      "/Users/aruha/.pyenv/versions/3.9.10/lib/python3.9/site-packages/seaborn/axisgrid.py:118: UserWarning: Glyph 12540 (\\N{KATAKANA-HIRAGANA PROLONGED SOUND MARK}) missing from current font.\n",
      "  self._figure.tight_layout(*args, **kwargs)\n",
      "/Users/aruha/.pyenv/versions/3.9.10/lib/python3.9/site-packages/seaborn/axisgrid.py:118: UserWarning: Glyph 12474 (\\N{KATAKANA LETTER ZU}) missing from current font.\n",
      "  self._figure.tight_layout(*args, **kwargs)\n",
      "findfont: Font family 'IPAexGothic' not found.\n",
      "/Users/aruha/.pyenv/versions/3.9.10/lib/python3.9/site-packages/seaborn/axisgrid.py:118: UserWarning: Glyph 24555 (\\N{CJK UNIFIED IDEOGRAPH-5FEB}) missing from current font.\n",
      "  self._figure.tight_layout(*args, **kwargs)\n",
      "/Users/aruha/.pyenv/versions/3.9.10/lib/python3.9/site-packages/seaborn/axisgrid.py:118: UserWarning: Glyph 30496 (\\N{CJK UNIFIED IDEOGRAPH-7720}) missing from current font.\n",
      "  self._figure.tight_layout(*args, **kwargs)\n",
      "/Users/aruha/.pyenv/versions/3.9.10/lib/python3.9/site-packages/seaborn/axisgrid.py:118: UserWarning: Glyph 12467 (\\N{KATAKANA LETTER KO}) missing from current font.\n",
      "  self._figure.tight_layout(*args, **kwargs)\n",
      "/Users/aruha/.pyenv/versions/3.9.10/lib/python3.9/site-packages/seaborn/axisgrid.py:118: UserWarning: Glyph 12450 (\\N{KATAKANA LETTER A}) missing from current font.\n",
      "  self._figure.tight_layout(*args, **kwargs)\n",
      "findfont: Font family 'IPAexGothic' not found.\n",
      "findfont: Font family 'IPAexGothic' not found.\n",
      "findfont: Font family 'IPAexGothic' not found.\n",
      "findfont: Font family 'IPAexGothic' not found.\n",
      "findfont: Font family 'IPAexGothic' not found.\n",
      "findfont: Font family 'IPAexGothic' not found.\n",
      "/Users/aruha/.pyenv/versions/3.9.10/lib/python3.9/site-packages/seaborn/axisgrid.py:118: UserWarning: Glyph 30561 (\\N{CJK UNIFIED IDEOGRAPH-7761}) missing from current font.\n",
      "  self._figure.tight_layout(*args, **kwargs)\n",
      "/Users/aruha/.pyenv/versions/3.9.10/lib/python3.9/site-packages/seaborn/axisgrid.py:118: UserWarning: Glyph 25351 (\\N{CJK UNIFIED IDEOGRAPH-6307}) missing from current font.\n",
      "  self._figure.tight_layout(*args, **kwargs)\n",
      "/Users/aruha/.pyenv/versions/3.9.10/lib/python3.9/site-packages/seaborn/axisgrid.py:118: UserWarning: Glyph 25968 (\\N{CJK UNIFIED IDEOGRAPH-6570}) missing from current font.\n",
      "  self._figure.tight_layout(*args, **kwargs)\n",
      "findfont: Font family 'IPAexGothic' not found.\n",
      "findfont: Font family 'IPAexGothic' not found.\n",
      "findfont: Font family 'IPAexGothic' not found.\n",
      "findfont: Font family 'IPAexGothic' not found.\n",
      "findfont: Font family 'IPAexGothic' not found.\n",
      "findfont: Font family 'IPAexGothic' not found.\n",
      "findfont: Font family 'IPAexGothic' not found.\n",
      "findfont: Font family 'IPAexGothic' not found.\n",
      "findfont: Font family 'IPAexGothic' not found.\n",
      "findfont: Font family 'IPAexGothic' not found.\n",
      "findfont: Font family 'IPAexGothic' not found.\n",
      "findfont: Font family 'IPAexGothic' not found.\n",
      "findfont: Font family 'IPAexGothic' not found.\n",
      "findfont: Font family 'IPAexGothic' not found.\n",
      "findfont: Font family 'IPAexGothic' not found.\n",
      "findfont: Font family 'IPAexGothic' not found.\n",
      "findfont: Font family 'IPAexGothic' not found.\n",
      "findfont: Font family 'IPAexGothic' not found.\n",
      "findfont: Font family 'IPAexGothic' not found.\n",
      "findfont: Font family 'IPAexGothic' not found.\n",
      "findfont: Font family 'IPAexGothic' not found.\n",
      "findfont: Font family 'IPAexGothic' not found.\n",
      "findfont: Font family 'IPAexGothic' not found.\n",
      "findfont: Font family 'IPAexGothic' not found.\n",
      "findfont: Font family 'IPAexGothic' not found.\n",
      "findfont: Font family 'IPAexGothic' not found.\n",
      "findfont: Font family 'IPAexGothic' not found.\n",
      "findfont: Font family 'IPAexGothic' not found.\n",
      "findfont: Font family 'IPAexGothic' not found.\n",
      "findfont: Font family 'IPAexGothic' not found.\n",
      "findfont: Font family 'IPAexGothic' not found.\n",
      "findfont: Font family 'IPAexGothic' not found.\n",
      "findfont: Font family 'IPAexGothic' not found.\n",
      "/Users/aruha/.pyenv/versions/3.9.10/lib/python3.9/site-packages/IPython/core/pylabtools.py:152: UserWarning: Glyph 12473 (\\N{KATAKANA LETTER SU}) missing from current font.\n",
      "  fig.canvas.print_figure(bytes_io, **kw)\n",
      "/Users/aruha/.pyenv/versions/3.9.10/lib/python3.9/site-packages/IPython/core/pylabtools.py:152: UserWarning: Glyph 12492 (\\N{KATAKANA LETTER NU}) missing from current font.\n",
      "  fig.canvas.print_figure(bytes_io, **kw)\n",
      "/Users/aruha/.pyenv/versions/3.9.10/lib/python3.9/site-packages/IPython/core/pylabtools.py:152: UserWarning: Glyph 12540 (\\N{KATAKANA-HIRAGANA PROLONGED SOUND MARK}) missing from current font.\n",
      "  fig.canvas.print_figure(bytes_io, **kw)\n",
      "/Users/aruha/.pyenv/versions/3.9.10/lib/python3.9/site-packages/IPython/core/pylabtools.py:152: UserWarning: Glyph 12474 (\\N{KATAKANA LETTER ZU}) missing from current font.\n",
      "  fig.canvas.print_figure(bytes_io, **kw)\n",
      "findfont: Font family 'IPAexGothic' not found.\n",
      "findfont: Font family 'IPAexGothic' not found.\n",
      "findfont: Font family 'IPAexGothic' not found.\n",
      "findfont: Font family 'IPAexGothic' not found.\n",
      "findfont: Font family 'IPAexGothic' not found.\n",
      "findfont: Font family 'IPAexGothic' not found.\n",
      "findfont: Font family 'IPAexGothic' not found.\n",
      "findfont: Font family 'IPAexGothic' not found.\n",
      "findfont: Font family 'IPAexGothic' not found.\n",
      "findfont: Font family 'IPAexGothic' not found.\n",
      "findfont: Font family 'IPAexGothic' not found.\n",
      "findfont: Font family 'IPAexGothic' not found.\n",
      "findfont: Font family 'IPAexGothic' not found.\n",
      "findfont: Font family 'IPAexGothic' not found.\n",
      "/Users/aruha/.pyenv/versions/3.9.10/lib/python3.9/site-packages/IPython/core/pylabtools.py:152: UserWarning: Glyph 24555 (\\N{CJK UNIFIED IDEOGRAPH-5FEB}) missing from current font.\n",
      "  fig.canvas.print_figure(bytes_io, **kw)\n",
      "/Users/aruha/.pyenv/versions/3.9.10/lib/python3.9/site-packages/IPython/core/pylabtools.py:152: UserWarning: Glyph 30496 (\\N{CJK UNIFIED IDEOGRAPH-7720}) missing from current font.\n",
      "  fig.canvas.print_figure(bytes_io, **kw)\n",
      "/Users/aruha/.pyenv/versions/3.9.10/lib/python3.9/site-packages/IPython/core/pylabtools.py:152: UserWarning: Glyph 12467 (\\N{KATAKANA LETTER KO}) missing from current font.\n",
      "  fig.canvas.print_figure(bytes_io, **kw)\n",
      "/Users/aruha/.pyenv/versions/3.9.10/lib/python3.9/site-packages/IPython/core/pylabtools.py:152: UserWarning: Glyph 12450 (\\N{KATAKANA LETTER A}) missing from current font.\n",
      "  fig.canvas.print_figure(bytes_io, **kw)\n",
      "findfont: Font family 'IPAexGothic' not found.\n",
      "findfont: Font family 'IPAexGothic' not found.\n",
      "findfont: Font family 'IPAexGothic' not found.\n",
      "findfont: Font family 'IPAexGothic' not found.\n",
      "findfont: Font family 'IPAexGothic' not found.\n",
      "findfont: Font family 'IPAexGothic' not found.\n",
      "findfont: Font family 'IPAexGothic' not found.\n",
      "findfont: Font family 'IPAexGothic' not found.\n",
      "findfont: Font family 'IPAexGothic' not found.\n",
      "findfont: Font family 'IPAexGothic' not found.\n",
      "findfont: Font family 'IPAexGothic' not found.\n",
      "findfont: Font family 'IPAexGothic' not found.\n",
      "findfont: Font family 'IPAexGothic' not found.\n",
      "findfont: Font family 'IPAexGothic' not found.\n",
      "findfont: Font family 'IPAexGothic' not found.\n",
      "findfont: Font family 'IPAexGothic' not found.\n",
      "findfont: Font family 'IPAexGothic' not found.\n",
      "findfont: Font family 'IPAexGothic' not found.\n",
      "findfont: Font family 'IPAexGothic' not found.\n",
      "findfont: Font family 'IPAexGothic' not found.\n",
      "findfont: Font family 'IPAexGothic' not found.\n",
      "findfont: Font family 'IPAexGothic' not found.\n",
      "/Users/aruha/.pyenv/versions/3.9.10/lib/python3.9/site-packages/IPython/core/pylabtools.py:152: UserWarning: Glyph 30561 (\\N{CJK UNIFIED IDEOGRAPH-7761}) missing from current font.\n",
      "  fig.canvas.print_figure(bytes_io, **kw)\n",
      "/Users/aruha/.pyenv/versions/3.9.10/lib/python3.9/site-packages/IPython/core/pylabtools.py:152: UserWarning: Glyph 25351 (\\N{CJK UNIFIED IDEOGRAPH-6307}) missing from current font.\n",
      "  fig.canvas.print_figure(bytes_io, **kw)\n",
      "/Users/aruha/.pyenv/versions/3.9.10/lib/python3.9/site-packages/IPython/core/pylabtools.py:152: UserWarning: Glyph 25968 (\\N{CJK UNIFIED IDEOGRAPH-6570}) missing from current font.\n",
      "  fig.canvas.print_figure(bytes_io, **kw)\n",
      "findfont: Font family 'IPAexGothic' not found.\n",
      "findfont: Font family 'IPAexGothic' not found.\n",
      "findfont: Font family 'IPAexGothic' not found.\n",
      "findfont: Font family 'IPAexGothic' not found.\n",
      "findfont: Font family 'IPAexGothic' not found.\n",
      "findfont: Font family 'IPAexGothic' not found.\n",
      "findfont: Font family 'IPAexGothic' not found.\n",
      "findfont: Font family 'IPAexGothic' not found.\n",
      "findfont: Font family 'IPAexGothic' not found.\n",
      "findfont: Font family 'IPAexGothic' not found.\n",
      "findfont: Font family 'IPAexGothic' not found.\n",
      "findfont: Font family 'IPAexGothic' not found.\n"
     ]
    },
    {
     "data": {
      "image/png": "[encoded data removed]",
      "text/plain": [
       "<Figure size 750x750 with 12 Axes>"
      ]
     },
     "metadata": {},
     "output_type": "display_data"
    }
   ],
   "source": []
  },
  {
   "cell_type": "code",
   "execution_count": null,
   "metadata": {},
   "outputs": [],
   "source": []
  },
  {
   "cell_type": "code",
   "execution_count": null,
   "metadata": {},
   "outputs": [],
   "source": []
  },
  {
   "cell_type": "code",
   "execution_count": null,
   "metadata": {},
   "outputs": [],
   "source": []
  },
  {
   "cell_type": "code",
   "execution_count": null,
   "metadata": {},
   "outputs": [],
   "source": []
  }
 ],
 "metadata": {
  "kernelspec": {
   "display_name": "Python 3",
   "language": "python",
   "name": "python3"
  },
  "language_info": {
   "codemirror_mode": {
    "name": "ipython",
    "version": 3
   },
   "file_extension": ".py",
   "mimetype": "text/x-python",
   "name": "python",
   "nbconvert_exporter": "python",
   "pygments_lexer": "ipython3",
   "version": "3.9.10"
  }
 },
 "nbformat": 4,
 "nbformat_minor": 2
}
